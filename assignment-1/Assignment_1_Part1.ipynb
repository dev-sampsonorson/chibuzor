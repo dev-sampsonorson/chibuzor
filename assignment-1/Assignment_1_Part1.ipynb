{
  "nbformat": 4,
  "nbformat_minor": 0,
  "metadata": {
    "colab": {
      "name": "Assignment_1_Part1.ipynb",
      "provenance": [],
      "collapsed_sections": [],
      "authorship_tag": "ABX9TyPLrTeXGkWnsoHkPM44+jDZ",
      "include_colab_link": true
    },
    "kernelspec": {
      "name": "python3",
      "display_name": "Python 3"
    },
    "language_info": {
      "name": "python"
    }
  },
  "cells": [
    {
      "cell_type": "markdown",
      "metadata": {
        "id": "view-in-github",
        "colab_type": "text"
      },
      "source": [
        "<a href=\"https://colab.research.google.com/github/dev-sampsonorson/chibuzor/blob/main/assignment-1/Assignment_1_Part1.ipynb\" target=\"_parent\"><img src=\"https://colab.research.google.com/assets/colab-badge.svg\" alt=\"Open In Colab\"/></a>"
      ]
    },
    {
      "cell_type": "markdown",
      "metadata": {
        "id": "E8TghguFRiGT"
      },
      "source": [
        "### Step 1: Load data into Google Colab"
      ]
    },
    {
      "cell_type": "code",
      "metadata": {
        "id": "szGPjniSOeoi"
      },
      "source": [
        "import pandas as pd\n",
        "from tabulate import tabulate\n",
        "\n",
        "url_csv = 'https://raw.githubusercontent.com/dev-sampsonorson/chibuzor/main/assignment-1/Part1.csv'\n",
        "\n",
        "df = pd.read_csv(url_csv)"
      ],
      "execution_count": 2,
      "outputs": []
    },
    {
      "cell_type": "markdown",
      "metadata": {
        "id": "9IqBG5VfRwVW"
      },
      "source": [
        "### Step 2: Explore the dataset\n",
        "**Display the dataframe**"
      ]
    },
    {
      "cell_type": "code",
      "metadata": {
        "id": "RTKpFbAhSAAy"
      },
      "source": [
        "# top 5, bottom 5\n",
        "df"
      ],
      "execution_count": null,
      "outputs": []
    },
    {
      "cell_type": "code",
      "metadata": {
        "id": "eHFzrRDlSW08"
      },
      "source": [
        "# display all rows in an easy to read format\n",
        "print(tabulate(df, headers = 'keys', tablefmt = 'grid'))"
      ],
      "execution_count": null,
      "outputs": []
    },
    {
      "cell_type": "markdown",
      "metadata": {
        "id": "uIES7qcGS3te"
      },
      "source": [
        "**Columns & data types in DataFrame**"
      ]
    },
    {
      "cell_type": "code",
      "metadata": {
        "colab": {
          "base_uri": "https://localhost:8080/"
        },
        "id": "4JxeF46HS9uE",
        "outputId": "9513972d-73ea-4dcb-f927-48709c5b8828"
      },
      "source": [
        "df.dtypes"
      ],
      "execution_count": 5,
      "outputs": [
        {
          "output_type": "execute_result",
          "data": {
            "text/plain": [
              "ID                           int64\n",
              "Insurance Type              object\n",
              "Income of Policy Holder      int64\n",
              "Marital Status              object\n",
              "Num Claimants                int64\n",
              "Injury Type                 object\n",
              "Overnight Hospital Stay     object\n",
              "Claim Amount                 int64\n",
              "Total Claimed                int64\n",
              "Num Claims                   int64\n",
              "Num Soft Tissue            float64\n",
              "% Soft Tissue              float64\n",
              "Claim Amount Received        int64\n",
              "Fraud Flag                   int64\n",
              "dtype: object"
            ]
          },
          "metadata": {
            "tags": []
          },
          "execution_count": 5
        }
      ]
    },
    {
      "cell_type": "markdown",
      "metadata": {
        "id": "hVOyzcNnS-c8"
      },
      "source": [
        "**Display data (Series) of a single column**"
      ]
    },
    {
      "cell_type": "code",
      "metadata": {
        "id": "l-ejlnO-SkZz"
      },
      "source": [
        "insurance_type_series = df['Insurance Type ']\n",
        "# insurance_type_series.array\n",
        "print(tabulate(pd.DataFrame(insurance_type_series.to_list(), columns = ['Insurance Type']), headers='keys', tablefmt='grid'))"
      ],
      "execution_count": null,
      "outputs": []
    },
    {
      "cell_type": "markdown",
      "metadata": {
        "id": "4jGgjKGobEJe"
      },
      "source": [
        "**Add new column \"Revenue\"**"
      ]
    },
    {
      "cell_type": "code",
      "metadata": {
        "id": "N8neJSYqTVfH"
      },
      "source": [
        "df['Revenue'] = df[\"Num Claimants\"] + df[\"Claim Amount Received\"]\n",
        "print(tabulate(pd.DataFrame(df, columns = [\"Num Claimants\", \"Claim Amount Received\", \"Revenue\"]), headers='keys', tablefmt='grid'))"
      ],
      "execution_count": null,
      "outputs": []
    },
    {
      "cell_type": "markdown",
      "metadata": {
        "id": "KAQD2z0LbJAS"
      },
      "source": [
        "**Select and display a specific row**"
      ]
    },
    {
      "cell_type": "code",
      "metadata": {
        "colab": {
          "base_uri": "https://localhost:8080/",
          "height": 79
        },
        "id": "Vz3QC3GDZfWk",
        "outputId": "564d95a6-1b80-4bba-ff05-ead3f7caeca6"
      },
      "source": [
        "df.iloc[0:1, 0:5]"
      ],
      "execution_count": 32,
      "outputs": [
        {
          "output_type": "execute_result",
          "data": {
            "text/html": [
              "<div>\n",
              "<style scoped>\n",
              "    .dataframe tbody tr th:only-of-type {\n",
              "        vertical-align: middle;\n",
              "    }\n",
              "\n",
              "    .dataframe tbody tr th {\n",
              "        vertical-align: top;\n",
              "    }\n",
              "\n",
              "    .dataframe thead th {\n",
              "        text-align: right;\n",
              "    }\n",
              "</style>\n",
              "<table border=\"1\" class=\"dataframe\">\n",
              "  <thead>\n",
              "    <tr style=\"text-align: right;\">\n",
              "      <th></th>\n",
              "      <th>ID</th>\n",
              "      <th>Insurance Type</th>\n",
              "      <th>Income of Policy Holder</th>\n",
              "      <th>Marital Status</th>\n",
              "      <th>Num Claimants</th>\n",
              "    </tr>\n",
              "  </thead>\n",
              "  <tbody>\n",
              "    <tr>\n",
              "      <th>0</th>\n",
              "      <td>1</td>\n",
              "      <td>CI</td>\n",
              "      <td>0</td>\n",
              "      <td>NaN</td>\n",
              "      <td>2</td>\n",
              "    </tr>\n",
              "  </tbody>\n",
              "</table>\n",
              "</div>"
            ],
            "text/plain": [
              "   ID Insurance Type   Income of Policy Holder Marital Status  Num Claimants\n",
              "0   1              CI                        0            NaN              2"
            ]
          },
          "metadata": {
            "tags": []
          },
          "execution_count": 32
        }
      ]
    },
    {
      "cell_type": "code",
      "metadata": {
        "id": "FdLl19VQadIE"
      },
      "source": [
        ""
      ],
      "execution_count": null,
      "outputs": []
    }
  ]
}