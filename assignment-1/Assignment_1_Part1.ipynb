{
  "nbformat": 4,
  "nbformat_minor": 0,
  "metadata": {
    "colab": {
      "name": "Assignment_1_Part1.ipynb",
      "provenance": [],
      "collapsed_sections": [],
      "authorship_tag": "ABX9TyM/rcFX2BxoLU+Zh3jTQyVq",
      "include_colab_link": true
    },
    "kernelspec": {
      "display_name": "Python 3",
      "name": "python3"
    },
    "language_info": {
      "name": "python"
    }
  },
  "cells": [
    {
      "cell_type": "markdown",
      "metadata": {
        "id": "view-in-github",
        "colab_type": "text"
      },
      "source": [
        "<a href=\"https://colab.research.google.com/github/dev-sampsonorson/chibuzor/blob/main/assignment-1/Assignment_1_Part1.ipynb\" target=\"_parent\"><img src=\"https://colab.research.google.com/assets/colab-badge.svg\" alt=\"Open In Colab\"/></a>"
      ]
    },
    {
      "cell_type": "markdown",
      "metadata": {
        "id": "E8TghguFRiGT"
      },
      "source": [
        "### Step 1: Load data into Google Colab"
      ]
    },
    {
      "cell_type": "code",
      "metadata": {
        "id": "szGPjniSOeoi"
      },
      "source": [
        "import pandas as pd\n",
        "from tabulate import tabulate\n",
        "\n",
        "url_csv = 'https://raw.githubusercontent.com/dev-sampsonorson/chibuzor/main/assignment-1/Part1.csv'\n",
        "\n",
        "df = pd.read_csv(url_csv)"
      ],
      "execution_count": 24,
      "outputs": []
    },
    {
      "cell_type": "markdown",
      "metadata": {
        "id": "9IqBG5VfRwVW"
      },
      "source": [
        "### Step 2: Explore the dataset\n",
        "**Display the dataframe**"
      ]
    },
    {
      "cell_type": "code",
      "metadata": {
        "colab": {
          "base_uri": "https://localhost:8080/",
          "height": 606
        },
        "id": "RTKpFbAhSAAy",
        "outputId": "77770fc6-accd-44e7-e537-d2605af80594"
      },
      "source": [
        "# top 5, bottom 5\n",
        "df"
      ],
      "execution_count": null,
      "outputs": [
        {
          "output_type": "execute_result",
          "data": {
            "text/html": [
              "<div>\n",
              "<style scoped>\n",
              "    .dataframe tbody tr th:only-of-type {\n",
              "        vertical-align: middle;\n",
              "    }\n",
              "\n",
              "    .dataframe tbody tr th {\n",
              "        vertical-align: top;\n",
              "    }\n",
              "\n",
              "    .dataframe thead th {\n",
              "        text-align: right;\n",
              "    }\n",
              "</style>\n",
              "<table border=\"1\" class=\"dataframe\">\n",
              "  <thead>\n",
              "    <tr style=\"text-align: right;\">\n",
              "      <th></th>\n",
              "      <th>ID</th>\n",
              "      <th>Insurance Type</th>\n",
              "      <th>Income of Policy Holder</th>\n",
              "      <th>Marital Status</th>\n",
              "      <th>Num Claimants</th>\n",
              "      <th>Injury Type</th>\n",
              "      <th>Overnight Hospital Stay</th>\n",
              "      <th>Claim Amount</th>\n",
              "      <th>Total Claimed</th>\n",
              "      <th>Num Claims</th>\n",
              "      <th>Num Soft Tissue</th>\n",
              "      <th>% Soft Tissue</th>\n",
              "      <th>Claim Amount Received</th>\n",
              "      <th>Fraud Flag</th>\n",
              "    </tr>\n",
              "  </thead>\n",
              "  <tbody>\n",
              "    <tr>\n",
              "      <th>0</th>\n",
              "      <td>1</td>\n",
              "      <td>CI</td>\n",
              "      <td>0</td>\n",
              "      <td>NaN</td>\n",
              "      <td>2</td>\n",
              "      <td>Soft Tissue</td>\n",
              "      <td>No</td>\n",
              "      <td>1625</td>\n",
              "      <td>3250</td>\n",
              "      <td>2</td>\n",
              "      <td>2.0</td>\n",
              "      <td>1.0</td>\n",
              "      <td>0</td>\n",
              "      <td>1</td>\n",
              "    </tr>\n",
              "    <tr>\n",
              "      <th>1</th>\n",
              "      <td>2</td>\n",
              "      <td>CI</td>\n",
              "      <td>0</td>\n",
              "      <td>NaN</td>\n",
              "      <td>2</td>\n",
              "      <td>Back</td>\n",
              "      <td>Yes</td>\n",
              "      <td>15028</td>\n",
              "      <td>60112</td>\n",
              "      <td>1</td>\n",
              "      <td>0.0</td>\n",
              "      <td>0.0</td>\n",
              "      <td>15028</td>\n",
              "      <td>0</td>\n",
              "    </tr>\n",
              "    <tr>\n",
              "      <th>2</th>\n",
              "      <td>3</td>\n",
              "      <td>CI</td>\n",
              "      <td>54613</td>\n",
              "      <td>Married</td>\n",
              "      <td>1</td>\n",
              "      <td>Broken Limb</td>\n",
              "      <td>No</td>\n",
              "      <td>-99999</td>\n",
              "      <td>0</td>\n",
              "      <td>0</td>\n",
              "      <td>0.0</td>\n",
              "      <td>0.0</td>\n",
              "      <td>572</td>\n",
              "      <td>0</td>\n",
              "    </tr>\n",
              "    <tr>\n",
              "      <th>3</th>\n",
              "      <td>4</td>\n",
              "      <td>CI</td>\n",
              "      <td>0</td>\n",
              "      <td>NaN</td>\n",
              "      <td>3</td>\n",
              "      <td>Serious</td>\n",
              "      <td>Yes</td>\n",
              "      <td>270200</td>\n",
              "      <td>0</td>\n",
              "      <td>0</td>\n",
              "      <td>0.0</td>\n",
              "      <td>0.0</td>\n",
              "      <td>270200</td>\n",
              "      <td>0</td>\n",
              "    </tr>\n",
              "    <tr>\n",
              "      <th>4</th>\n",
              "      <td>5</td>\n",
              "      <td>CI</td>\n",
              "      <td>0</td>\n",
              "      <td>NaN</td>\n",
              "      <td>4</td>\n",
              "      <td>Soft Tissue</td>\n",
              "      <td>No</td>\n",
              "      <td>8869</td>\n",
              "      <td>0</td>\n",
              "      <td>0</td>\n",
              "      <td>0.0</td>\n",
              "      <td>0.0</td>\n",
              "      <td>0</td>\n",
              "      <td>1</td>\n",
              "    </tr>\n",
              "    <tr>\n",
              "      <th>...</th>\n",
              "      <td>...</td>\n",
              "      <td>...</td>\n",
              "      <td>...</td>\n",
              "      <td>...</td>\n",
              "      <td>...</td>\n",
              "      <td>...</td>\n",
              "      <td>...</td>\n",
              "      <td>...</td>\n",
              "      <td>...</td>\n",
              "      <td>...</td>\n",
              "      <td>...</td>\n",
              "      <td>...</td>\n",
              "      <td>...</td>\n",
              "      <td>...</td>\n",
              "    </tr>\n",
              "    <tr>\n",
              "      <th>495</th>\n",
              "      <td>496</td>\n",
              "      <td>CI</td>\n",
              "      <td>0</td>\n",
              "      <td>NaN</td>\n",
              "      <td>1</td>\n",
              "      <td>Soft Tissue</td>\n",
              "      <td>No</td>\n",
              "      <td>2118</td>\n",
              "      <td>0</td>\n",
              "      <td>0</td>\n",
              "      <td>0.0</td>\n",
              "      <td>0.0</td>\n",
              "      <td>0</td>\n",
              "      <td>1</td>\n",
              "    </tr>\n",
              "    <tr>\n",
              "      <th>496</th>\n",
              "      <td>497</td>\n",
              "      <td>CI</td>\n",
              "      <td>29280</td>\n",
              "      <td>Married</td>\n",
              "      <td>4</td>\n",
              "      <td>Broken Limb</td>\n",
              "      <td>Yes</td>\n",
              "      <td>3199</td>\n",
              "      <td>0</td>\n",
              "      <td>0</td>\n",
              "      <td>NaN</td>\n",
              "      <td>0.0</td>\n",
              "      <td>0</td>\n",
              "      <td>1</td>\n",
              "    </tr>\n",
              "    <tr>\n",
              "      <th>497</th>\n",
              "      <td>498</td>\n",
              "      <td>CI</td>\n",
              "      <td>0</td>\n",
              "      <td>NaN</td>\n",
              "      <td>1</td>\n",
              "      <td>Broken Limb</td>\n",
              "      <td>Yes</td>\n",
              "      <td>32469</td>\n",
              "      <td>0</td>\n",
              "      <td>0</td>\n",
              "      <td>0.0</td>\n",
              "      <td>0.0</td>\n",
              "      <td>16763</td>\n",
              "      <td>0</td>\n",
              "    </tr>\n",
              "    <tr>\n",
              "      <th>498</th>\n",
              "      <td>499</td>\n",
              "      <td>CI</td>\n",
              "      <td>46683</td>\n",
              "      <td>Married</td>\n",
              "      <td>1</td>\n",
              "      <td>Broken Limb</td>\n",
              "      <td>No</td>\n",
              "      <td>179448</td>\n",
              "      <td>0</td>\n",
              "      <td>0</td>\n",
              "      <td>0.0</td>\n",
              "      <td>0.0</td>\n",
              "      <td>179448</td>\n",
              "      <td>0</td>\n",
              "    </tr>\n",
              "    <tr>\n",
              "      <th>499</th>\n",
              "      <td>500</td>\n",
              "      <td>CI</td>\n",
              "      <td>0</td>\n",
              "      <td>NaN</td>\n",
              "      <td>1</td>\n",
              "      <td>Broken Limb</td>\n",
              "      <td>No</td>\n",
              "      <td>8259</td>\n",
              "      <td>0</td>\n",
              "      <td>0</td>\n",
              "      <td>0.0</td>\n",
              "      <td>0.0</td>\n",
              "      <td>0</td>\n",
              "      <td>1</td>\n",
              "    </tr>\n",
              "  </tbody>\n",
              "</table>\n",
              "<p>500 rows × 14 columns</p>\n",
              "</div>"
            ],
            "text/plain": [
              "      ID Insurance Type   ...  Claim Amount Received Fraud Flag\n",
              "0      1              CI  ...                      0          1\n",
              "1      2              CI  ...                  15028          0\n",
              "2      3              CI  ...                    572          0\n",
              "3      4              CI  ...                 270200          0\n",
              "4      5              CI  ...                      0          1\n",
              "..   ...             ...  ...                    ...        ...\n",
              "495  496              CI  ...                      0          1\n",
              "496  497              CI  ...                      0          1\n",
              "497  498              CI  ...                  16763          0\n",
              "498  499              CI  ...                 179448          0\n",
              "499  500              CI  ...                      0          1\n",
              "\n",
              "[500 rows x 14 columns]"
            ]
          },
          "metadata": {
            "tags": []
          },
          "execution_count": 6
        }
      ]
    },
    {
      "cell_type": "code",
      "metadata": {
        "id": "eHFzrRDlSW08"
      },
      "source": [
        "# display all rows in an easy to read format\n",
        "print(tabulate(df, headers = 'keys', tablefmt = 'grid'))"
      ],
      "execution_count": null,
      "outputs": []
    },
    {
      "cell_type": "markdown",
      "metadata": {
        "id": "uIES7qcGS3te"
      },
      "source": [
        "**Columns & data types in DataFrame**\n"
      ]
    },
    {
      "cell_type": "code",
      "metadata": {
        "colab": {
          "base_uri": "https://localhost:8080/"
        },
        "id": "4JxeF46HS9uE",
        "outputId": "9513972d-73ea-4dcb-f927-48709c5b8828"
      },
      "source": [
        "df.dtypes"
      ],
      "execution_count": null,
      "outputs": [
        {
          "output_type": "execute_result",
          "data": {
            "text/plain": [
              "ID                           int64\n",
              "Insurance Type              object\n",
              "Income of Policy Holder      int64\n",
              "Marital Status              object\n",
              "Num Claimants                int64\n",
              "Injury Type                 object\n",
              "Overnight Hospital Stay     object\n",
              "Claim Amount                 int64\n",
              "Total Claimed                int64\n",
              "Num Claims                   int64\n",
              "Num Soft Tissue            float64\n",
              "% Soft Tissue              float64\n",
              "Claim Amount Received        int64\n",
              "Fraud Flag                   int64\n",
              "dtype: object"
            ]
          },
          "metadata": {
            "tags": []
          },
          "execution_count": 5
        }
      ]
    },
    {
      "cell_type": "markdown",
      "metadata": {
        "id": "hVOyzcNnS-c8"
      },
      "source": [
        "**Display data (Series) of a single column**"
      ]
    },
    {
      "cell_type": "code",
      "metadata": {
        "id": "l-ejlnO-SkZz"
      },
      "source": [
        "insurance_type_series = df['Insurance Type ']\n",
        "# insurance_type_series.array\n",
        "print(tabulate(pd.DataFrame(insurance_type_series.to_list(), columns = ['Insurance Type']), headers='keys', tablefmt='grid'))"
      ],
      "execution_count": null,
      "outputs": []
    },
    {
      "cell_type": "markdown",
      "metadata": {
        "id": "4jGgjKGobEJe"
      },
      "source": [
        "**Add new column \"Revenue\"**"
      ]
    },
    {
      "cell_type": "code",
      "metadata": {
        "id": "N8neJSYqTVfH"
      },
      "source": [
        "df['Revenue'] = df[\"Num Claimants\"] + df[\"Claim Amount Received\"]\n",
        "print(tabulate(pd.DataFrame(df, columns = [\"Num Claimants\", \"Claim Amount Received\", \"Revenue\"]), headers='keys', tablefmt='grid'))"
      ],
      "execution_count": null,
      "outputs": []
    },
    {
      "cell_type": "markdown",
      "metadata": {
        "id": "KAQD2z0LbJAS"
      },
      "source": [
        "**Select and display a specific row**"
      ]
    },
    {
      "cell_type": "code",
      "metadata": {
        "colab": {
          "base_uri": "https://localhost:8080/",
          "height": 79
        },
        "id": "Vz3QC3GDZfWk",
        "outputId": "564d95a6-1b80-4bba-ff05-ead3f7caeca6"
      },
      "source": [
        "df.iloc[0:1, 0:5]"
      ],
      "execution_count": null,
      "outputs": [
        {
          "output_type": "execute_result",
          "data": {
            "text/html": [
              "<div>\n",
              "<style scoped>\n",
              "    .dataframe tbody tr th:only-of-type {\n",
              "        vertical-align: middle;\n",
              "    }\n",
              "\n",
              "    .dataframe tbody tr th {\n",
              "        vertical-align: top;\n",
              "    }\n",
              "\n",
              "    .dataframe thead th {\n",
              "        text-align: right;\n",
              "    }\n",
              "</style>\n",
              "<table border=\"1\" class=\"dataframe\">\n",
              "  <thead>\n",
              "    <tr style=\"text-align: right;\">\n",
              "      <th></th>\n",
              "      <th>ID</th>\n",
              "      <th>Insurance Type</th>\n",
              "      <th>Income of Policy Holder</th>\n",
              "      <th>Marital Status</th>\n",
              "      <th>Num Claimants</th>\n",
              "    </tr>\n",
              "  </thead>\n",
              "  <tbody>\n",
              "    <tr>\n",
              "      <th>0</th>\n",
              "      <td>1</td>\n",
              "      <td>CI</td>\n",
              "      <td>0</td>\n",
              "      <td>NaN</td>\n",
              "      <td>2</td>\n",
              "    </tr>\n",
              "  </tbody>\n",
              "</table>\n",
              "</div>"
            ],
            "text/plain": [
              "   ID Insurance Type   Income of Policy Holder Marital Status  Num Claimants\n",
              "0   1              CI                        0            NaN              2"
            ]
          },
          "metadata": {
            "tags": []
          },
          "execution_count": 32
        }
      ]
    },
    {
      "cell_type": "markdown",
      "metadata": {
        "id": "wAh-rVEfcimg"
      },
      "source": [
        "### Step 3: Identify missing attribute field(s). Which have missing values and how many? Propose a way to resolve these missing values for those attributes.\n",
        "\n",
        "**Missing values and count**"
      ]
    },
    {
      "cell_type": "code",
      "metadata": {
        "colab": {
          "base_uri": "https://localhost:8080/"
        },
        "id": "FdLl19VQadIE",
        "outputId": "93d10b7b-ef60-416c-ae01-85a95e6671f6"
      },
      "source": [
        "df.isna().sum()"
      ],
      "execution_count": 33,
      "outputs": [
        {
          "output_type": "execute_result",
          "data": {
            "text/plain": [
              "ID                           0\n",
              "Insurance Type               0\n",
              "Income of Policy Holder      0\n",
              "Marital Status             330\n",
              "Num Claimants                0\n",
              "Injury Type                  0\n",
              "Overnight Hospital Stay      0\n",
              "Claim Amount                 0\n",
              "Total Claimed                0\n",
              "Num Claims                   0\n",
              "Num Soft Tissue             10\n",
              "% Soft Tissue                0\n",
              "Claim Amount Received        0\n",
              "Fraud Flag                   0\n",
              "dtype: int64"
            ]
          },
          "metadata": {
            "tags": []
          },
          "execution_count": 33
        }
      ]
    },
    {
      "cell_type": "markdown",
      "metadata": {
        "id": "UwcSZiwrato5"
      },
      "source": [
        "**Propose a way to resolve these missing values**\n",
        "\n",
        "*Marital Status*\n",
        "\n",
        "To resolve this, i would suggest creating a new valid value called \"Not Specifed\", which would replace all the NaN values."
      ]
    },
    {
      "cell_type": "code",
      "metadata": {
        "colab": {
          "base_uri": "https://localhost:8080/"
        },
        "id": "rB3YOAQebIOc",
        "outputId": "a480cc27-785e-456e-fb72-1d5dd307b37c"
      },
      "source": [
        "# Marital Status\n",
        "# With values\n",
        "len(df.loc[df['Marital Status'].isin(['Married', 'Single', 'Divorced']), \"Marital Status\"])\n",
        "\n",
        "# With missing values\n",
        "len(df.loc[~df['Marital Status'].isin(['Married', 'Single', 'Divorced']), \"Marital Status\"])\n",
        "\n"
      ],
      "execution_count": 49,
      "outputs": [
        {
          "output_type": "execute_result",
          "data": {
            "text/plain": [
              "330"
            ]
          },
          "metadata": {
            "tags": []
          },
          "execution_count": 49
        }
      ]
    },
    {
      "cell_type": "markdown",
      "metadata": {
        "id": "werEodn6fSoC"
      },
      "source": [
        "*Num Soft Tissue*\n",
        "\n",
        "For this attribute i would suggest replacing the NaN values with 0."
      ]
    },
    {
      "cell_type": "code",
      "metadata": {
        "colab": {
          "base_uri": "https://localhost:8080/"
        },
        "id": "pousKRxCe8vB",
        "outputId": "8d6748ca-17fb-47c1-a7a5-f9e67ba1cc75"
      },
      "source": [
        "df_nst = df['Num Soft Tissue'].fillna(0, inplace=False)\n",
        "df_nst"
      ],
      "execution_count": 54,
      "outputs": [
        {
          "output_type": "execute_result",
          "data": {
            "text/plain": [
              "0      2.0\n",
              "1      0.0\n",
              "2      0.0\n",
              "3      0.0\n",
              "4      0.0\n",
              "      ... \n",
              "495    0.0\n",
              "496    0.0\n",
              "497    0.0\n",
              "498    0.0\n",
              "499    0.0\n",
              "Name: Num Soft Tissue, Length: 500, dtype: float64"
            ]
          },
          "metadata": {
            "tags": []
          },
          "execution_count": 54
        }
      ]
    },
    {
      "cell_type": "code",
      "metadata": {
        "id": "Z_tT-oHnixj0"
      },
      "source": [
        "df[df['Insurance Type '].isna() | df['Insurance Type '].isnull(), \"Insurance Type \"]\n",
        "df[df['Insurance Type '].isna() | df['Insurance Type '].isnull(), \"Insurance Type \"]\n",
        "df[df['Insurance Type '].isna() | df['Insurance Type '].isnull(), \"Insurance Type \"]\n",
        "df[df['Insurance Type '].isna() | df['Insurance Type '].isnull(), \"Insurance Type \"]\n",
        "df[df['Insurance Type '].isna() | df['Insurance Type '].isnull(), \"Insurance Type \"]\n",
        "df[df['Insurance Type '].isna() | df['Insurance Type '].isnull(), \"Insurance Type \"]\n",
        "df[df['Insurance Type '].isna() | df['Insurance Type '].isnull(), \"Insurance Type \"]\n",
        "df[df['Insurance Type '].isna() | df['Insurance Type '].isnull(), \"Insurance Type \"]\n",
        "df[df['Insurance Type '].isna() | df['Insurance Type '].isnull(), \"Insurance Type \"]\n",
        "df[df['Insurance Type '].isna() | df['Insurance Type '].isnull(), \"Insurance Type \"]\n",
        "df[df['Insurance Type '].isna() | df['Insurance Type '].isnull(), \"Insurance Type \"]\n",
        "df[df['Insurance Type '].isna() | df['Insurance Type '].isnull(), \"Insurance Type \"]\n",
        "df[df['Insurance Type '].isna() | df['Insurance Type '].isnull(), \"Insurance Type \"]"
      ],
      "execution_count": null,
      "outputs": []
    },
    {
      "cell_type": "code",
      "metadata": {
        "colab": {
          "base_uri": "https://localhost:8080/",
          "height": 162
        },
        "id": "iyPbSiHvdNJL",
        "outputId": "5039393a-455a-4a3b-8848-896858c79bbc"
      },
      "source": [
        "# df['Insurance Type '].to_list()\n",
        "\n",
        "# insurance Type is odd because it has the same value all through\n",
        "# meaning, the data for a paricular insurance type \n",
        "df.groupby(['Insurance Type ']).count()\n",
        "\n",
        "# kkk = df.drop(['Insurance Type '], axis=1, inplace=False)\n",
        "# kkk"
      ],
      "execution_count": null,
      "outputs": [
        {
          "output_type": "execute_result",
          "data": {
            "text/html": [
              "<div>\n",
              "<style scoped>\n",
              "    .dataframe tbody tr th:only-of-type {\n",
              "        vertical-align: middle;\n",
              "    }\n",
              "\n",
              "    .dataframe tbody tr th {\n",
              "        vertical-align: top;\n",
              "    }\n",
              "\n",
              "    .dataframe thead th {\n",
              "        text-align: right;\n",
              "    }\n",
              "</style>\n",
              "<table border=\"1\" class=\"dataframe\">\n",
              "  <thead>\n",
              "    <tr style=\"text-align: right;\">\n",
              "      <th></th>\n",
              "      <th>ID</th>\n",
              "      <th>Income of Policy Holder</th>\n",
              "      <th>Marital Status</th>\n",
              "      <th>Num Claimants</th>\n",
              "      <th>Injury Type</th>\n",
              "      <th>Overnight Hospital Stay</th>\n",
              "      <th>Claim Amount</th>\n",
              "      <th>Total Claimed</th>\n",
              "      <th>Num Claims</th>\n",
              "      <th>Num Soft Tissue</th>\n",
              "      <th>% Soft Tissue</th>\n",
              "      <th>Claim Amount Received</th>\n",
              "      <th>Fraud Flag</th>\n",
              "    </tr>\n",
              "    <tr>\n",
              "      <th>Insurance Type</th>\n",
              "      <th></th>\n",
              "      <th></th>\n",
              "      <th></th>\n",
              "      <th></th>\n",
              "      <th></th>\n",
              "      <th></th>\n",
              "      <th></th>\n",
              "      <th></th>\n",
              "      <th></th>\n",
              "      <th></th>\n",
              "      <th></th>\n",
              "      <th></th>\n",
              "      <th></th>\n",
              "    </tr>\n",
              "  </thead>\n",
              "  <tbody>\n",
              "    <tr>\n",
              "      <th>CI</th>\n",
              "      <td>500</td>\n",
              "      <td>500</td>\n",
              "      <td>170</td>\n",
              "      <td>500</td>\n",
              "      <td>500</td>\n",
              "      <td>500</td>\n",
              "      <td>500</td>\n",
              "      <td>500</td>\n",
              "      <td>500</td>\n",
              "      <td>490</td>\n",
              "      <td>500</td>\n",
              "      <td>500</td>\n",
              "      <td>500</td>\n",
              "    </tr>\n",
              "  </tbody>\n",
              "</table>\n",
              "</div>"
            ],
            "text/plain": [
              "                  ID  ...  Fraud Flag\n",
              "Insurance Type        ...            \n",
              "CI               500  ...         500\n",
              "\n",
              "[1 rows x 13 columns]"
            ]
          },
          "metadata": {
            "tags": []
          },
          "execution_count": 3
        }
      ]
    },
    {
      "cell_type": "code",
      "metadata": {
        "colab": {
          "base_uri": "https://localhost:8080/"
        },
        "id": "SM08lX9j6Cq7",
        "outputId": "5000219c-20c1-48f6-ebc0-13384393a260"
      },
      "source": [
        "# columns with missing values\n",
        "# df.value_counts(df[\"Marital Status\"])\n",
        "\n",
        "nan_count = len(df.loc[~df[\"Marital Status\"].isin([\"Married\", \"Single\", \"Divorced\"]), \"Marital Status\"])\n",
        "valid_count = len(df.loc[df[\"Marital Status\"].isin([\"Married\", \"Single\", \"Divorced\"]), \"Marital Status\"])\n",
        "print(nan_count, valid_count)\n",
        "# x = df.loc[~df[\"Marital Status\"].isin([\"Married\", \"Single\", \"Divorced\"]), [\"ID\", \"Marital Status\"]]\n",
        "# print(tabulate(pd.DataFrame(x.to_dict(), columns = ['ID', 'Marital Status']), headers = 'keys', tablefmt = 'grid'))\n",
        "# len(df.loc[df[\"Marital Status\"].isna(), \"Marital Status\"])"
      ],
      "execution_count": null,
      "outputs": [
        {
          "output_type": "stream",
          "text": [
            "330 170\n"
          ],
          "name": "stdout"
        }
      ]
    },
    {
      "cell_type": "code",
      "metadata": {
        "id": "zSEH9jUr8c5x"
      },
      "source": [
        ""
      ],
      "execution_count": null,
      "outputs": []
    }
  ]
}