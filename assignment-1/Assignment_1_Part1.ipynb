{
  "nbformat": 4,
  "nbformat_minor": 0,
  "metadata": {
    "colab": {
      "name": "Assignment_1_Part1.ipynb",
      "provenance": [],
      "collapsed_sections": [],
      "authorship_tag": "ABX9TyNTDqFv4b0jz9K7Fmjfru3s",
      "include_colab_link": true
    },
    "kernelspec": {
      "display_name": "Python 3",
      "name": "python3"
    },
    "language_info": {
      "name": "python"
    }
  },
  "cells": [
    {
      "cell_type": "markdown",
      "metadata": {
        "id": "view-in-github",
        "colab_type": "text"
      },
      "source": [
        "<a href=\"https://colab.research.google.com/github/dev-sampsonorson/chibuzor/blob/main/assignment-1/Assignment_1_Part1.ipynb\" target=\"_parent\"><img src=\"https://colab.research.google.com/assets/colab-badge.svg\" alt=\"Open In Colab\"/></a>"
      ]
    },
    {
      "cell_type": "markdown",
      "metadata": {
        "id": "E8TghguFRiGT"
      },
      "source": [
        "### Step 1: Load data into Google Colab"
      ]
    },
    {
      "cell_type": "code",
      "metadata": {
        "id": "szGPjniSOeoi"
      },
      "source": [
        "import pandas as pd\n",
        "from tabulate import tabulate\n",
        "\n",
        "import seaborn as sn\n",
        "import matplotlib.pyplot as plt\n",
        "\n",
        "from sklearn.feature_selection import VarianceThreshold\n",
        "\n",
        "url_csv = 'https://raw.githubusercontent.com/dev-sampsonorson/chibuzor/main/assignment-1/Part1.csv'\n",
        "\n",
        "df = pd.read_csv(url_csv)"
      ],
      "execution_count": 1,
      "outputs": []
    },
    {
      "cell_type": "markdown",
      "metadata": {
        "id": "9IqBG5VfRwVW"
      },
      "source": [
        "### Step 2: Explore the dataset\n",
        "**Display the dataframe**"
      ]
    },
    {
      "cell_type": "code",
      "metadata": {
        "colab": {
          "base_uri": "https://localhost:8080/",
          "height": 606
        },
        "id": "RTKpFbAhSAAy",
        "outputId": "77770fc6-accd-44e7-e537-d2605af80594"
      },
      "source": [
        "# top 5, bottom 5\n",
        "df"
      ],
      "execution_count": null,
      "outputs": [
        {
          "output_type": "execute_result",
          "data": {
            "text/html": [
              "<div>\n",
              "<style scoped>\n",
              "    .dataframe tbody tr th:only-of-type {\n",
              "        vertical-align: middle;\n",
              "    }\n",
              "\n",
              "    .dataframe tbody tr th {\n",
              "        vertical-align: top;\n",
              "    }\n",
              "\n",
              "    .dataframe thead th {\n",
              "        text-align: right;\n",
              "    }\n",
              "</style>\n",
              "<table border=\"1\" class=\"dataframe\">\n",
              "  <thead>\n",
              "    <tr style=\"text-align: right;\">\n",
              "      <th></th>\n",
              "      <th>ID</th>\n",
              "      <th>Insurance Type</th>\n",
              "      <th>Income of Policy Holder</th>\n",
              "      <th>Marital Status</th>\n",
              "      <th>Num Claimants</th>\n",
              "      <th>Injury Type</th>\n",
              "      <th>Overnight Hospital Stay</th>\n",
              "      <th>Claim Amount</th>\n",
              "      <th>Total Claimed</th>\n",
              "      <th>Num Claims</th>\n",
              "      <th>Num Soft Tissue</th>\n",
              "      <th>% Soft Tissue</th>\n",
              "      <th>Claim Amount Received</th>\n",
              "      <th>Fraud Flag</th>\n",
              "    </tr>\n",
              "  </thead>\n",
              "  <tbody>\n",
              "    <tr>\n",
              "      <th>0</th>\n",
              "      <td>1</td>\n",
              "      <td>CI</td>\n",
              "      <td>0</td>\n",
              "      <td>NaN</td>\n",
              "      <td>2</td>\n",
              "      <td>Soft Tissue</td>\n",
              "      <td>No</td>\n",
              "      <td>1625</td>\n",
              "      <td>3250</td>\n",
              "      <td>2</td>\n",
              "      <td>2.0</td>\n",
              "      <td>1.0</td>\n",
              "      <td>0</td>\n",
              "      <td>1</td>\n",
              "    </tr>\n",
              "    <tr>\n",
              "      <th>1</th>\n",
              "      <td>2</td>\n",
              "      <td>CI</td>\n",
              "      <td>0</td>\n",
              "      <td>NaN</td>\n",
              "      <td>2</td>\n",
              "      <td>Back</td>\n",
              "      <td>Yes</td>\n",
              "      <td>15028</td>\n",
              "      <td>60112</td>\n",
              "      <td>1</td>\n",
              "      <td>0.0</td>\n",
              "      <td>0.0</td>\n",
              "      <td>15028</td>\n",
              "      <td>0</td>\n",
              "    </tr>\n",
              "    <tr>\n",
              "      <th>2</th>\n",
              "      <td>3</td>\n",
              "      <td>CI</td>\n",
              "      <td>54613</td>\n",
              "      <td>Married</td>\n",
              "      <td>1</td>\n",
              "      <td>Broken Limb</td>\n",
              "      <td>No</td>\n",
              "      <td>-99999</td>\n",
              "      <td>0</td>\n",
              "      <td>0</td>\n",
              "      <td>0.0</td>\n",
              "      <td>0.0</td>\n",
              "      <td>572</td>\n",
              "      <td>0</td>\n",
              "    </tr>\n",
              "    <tr>\n",
              "      <th>3</th>\n",
              "      <td>4</td>\n",
              "      <td>CI</td>\n",
              "      <td>0</td>\n",
              "      <td>NaN</td>\n",
              "      <td>3</td>\n",
              "      <td>Serious</td>\n",
              "      <td>Yes</td>\n",
              "      <td>270200</td>\n",
              "      <td>0</td>\n",
              "      <td>0</td>\n",
              "      <td>0.0</td>\n",
              "      <td>0.0</td>\n",
              "      <td>270200</td>\n",
              "      <td>0</td>\n",
              "    </tr>\n",
              "    <tr>\n",
              "      <th>4</th>\n",
              "      <td>5</td>\n",
              "      <td>CI</td>\n",
              "      <td>0</td>\n",
              "      <td>NaN</td>\n",
              "      <td>4</td>\n",
              "      <td>Soft Tissue</td>\n",
              "      <td>No</td>\n",
              "      <td>8869</td>\n",
              "      <td>0</td>\n",
              "      <td>0</td>\n",
              "      <td>0.0</td>\n",
              "      <td>0.0</td>\n",
              "      <td>0</td>\n",
              "      <td>1</td>\n",
              "    </tr>\n",
              "    <tr>\n",
              "      <th>...</th>\n",
              "      <td>...</td>\n",
              "      <td>...</td>\n",
              "      <td>...</td>\n",
              "      <td>...</td>\n",
              "      <td>...</td>\n",
              "      <td>...</td>\n",
              "      <td>...</td>\n",
              "      <td>...</td>\n",
              "      <td>...</td>\n",
              "      <td>...</td>\n",
              "      <td>...</td>\n",
              "      <td>...</td>\n",
              "      <td>...</td>\n",
              "      <td>...</td>\n",
              "    </tr>\n",
              "    <tr>\n",
              "      <th>495</th>\n",
              "      <td>496</td>\n",
              "      <td>CI</td>\n",
              "      <td>0</td>\n",
              "      <td>NaN</td>\n",
              "      <td>1</td>\n",
              "      <td>Soft Tissue</td>\n",
              "      <td>No</td>\n",
              "      <td>2118</td>\n",
              "      <td>0</td>\n",
              "      <td>0</td>\n",
              "      <td>0.0</td>\n",
              "      <td>0.0</td>\n",
              "      <td>0</td>\n",
              "      <td>1</td>\n",
              "    </tr>\n",
              "    <tr>\n",
              "      <th>496</th>\n",
              "      <td>497</td>\n",
              "      <td>CI</td>\n",
              "      <td>29280</td>\n",
              "      <td>Married</td>\n",
              "      <td>4</td>\n",
              "      <td>Broken Limb</td>\n",
              "      <td>Yes</td>\n",
              "      <td>3199</td>\n",
              "      <td>0</td>\n",
              "      <td>0</td>\n",
              "      <td>NaN</td>\n",
              "      <td>0.0</td>\n",
              "      <td>0</td>\n",
              "      <td>1</td>\n",
              "    </tr>\n",
              "    <tr>\n",
              "      <th>497</th>\n",
              "      <td>498</td>\n",
              "      <td>CI</td>\n",
              "      <td>0</td>\n",
              "      <td>NaN</td>\n",
              "      <td>1</td>\n",
              "      <td>Broken Limb</td>\n",
              "      <td>Yes</td>\n",
              "      <td>32469</td>\n",
              "      <td>0</td>\n",
              "      <td>0</td>\n",
              "      <td>0.0</td>\n",
              "      <td>0.0</td>\n",
              "      <td>16763</td>\n",
              "      <td>0</td>\n",
              "    </tr>\n",
              "    <tr>\n",
              "      <th>498</th>\n",
              "      <td>499</td>\n",
              "      <td>CI</td>\n",
              "      <td>46683</td>\n",
              "      <td>Married</td>\n",
              "      <td>1</td>\n",
              "      <td>Broken Limb</td>\n",
              "      <td>No</td>\n",
              "      <td>179448</td>\n",
              "      <td>0</td>\n",
              "      <td>0</td>\n",
              "      <td>0.0</td>\n",
              "      <td>0.0</td>\n",
              "      <td>179448</td>\n",
              "      <td>0</td>\n",
              "    </tr>\n",
              "    <tr>\n",
              "      <th>499</th>\n",
              "      <td>500</td>\n",
              "      <td>CI</td>\n",
              "      <td>0</td>\n",
              "      <td>NaN</td>\n",
              "      <td>1</td>\n",
              "      <td>Broken Limb</td>\n",
              "      <td>No</td>\n",
              "      <td>8259</td>\n",
              "      <td>0</td>\n",
              "      <td>0</td>\n",
              "      <td>0.0</td>\n",
              "      <td>0.0</td>\n",
              "      <td>0</td>\n",
              "      <td>1</td>\n",
              "    </tr>\n",
              "  </tbody>\n",
              "</table>\n",
              "<p>500 rows × 14 columns</p>\n",
              "</div>"
            ],
            "text/plain": [
              "      ID Insurance Type   ...  Claim Amount Received Fraud Flag\n",
              "0      1              CI  ...                      0          1\n",
              "1      2              CI  ...                  15028          0\n",
              "2      3              CI  ...                    572          0\n",
              "3      4              CI  ...                 270200          0\n",
              "4      5              CI  ...                      0          1\n",
              "..   ...             ...  ...                    ...        ...\n",
              "495  496              CI  ...                      0          1\n",
              "496  497              CI  ...                      0          1\n",
              "497  498              CI  ...                  16763          0\n",
              "498  499              CI  ...                 179448          0\n",
              "499  500              CI  ...                      0          1\n",
              "\n",
              "[500 rows x 14 columns]"
            ]
          },
          "metadata": {
            "tags": []
          },
          "execution_count": 6
        }
      ]
    },
    {
      "cell_type": "code",
      "metadata": {
        "id": "eHFzrRDlSW08"
      },
      "source": [
        "# display all rows in an easy to read format\n",
        "print(tabulate(df, headers = 'keys', tablefmt = 'grid'))"
      ],
      "execution_count": null,
      "outputs": []
    },
    {
      "cell_type": "markdown",
      "metadata": {
        "id": "uIES7qcGS3te"
      },
      "source": [
        "**Columns & data types in DataFrame**\n"
      ]
    },
    {
      "cell_type": "code",
      "metadata": {
        "colab": {
          "base_uri": "https://localhost:8080/"
        },
        "id": "4JxeF46HS9uE",
        "outputId": "9513972d-73ea-4dcb-f927-48709c5b8828"
      },
      "source": [
        "df.dtypes"
      ],
      "execution_count": null,
      "outputs": [
        {
          "output_type": "execute_result",
          "data": {
            "text/plain": [
              "ID                           int64\n",
              "Insurance Type              object\n",
              "Income of Policy Holder      int64\n",
              "Marital Status              object\n",
              "Num Claimants                int64\n",
              "Injury Type                 object\n",
              "Overnight Hospital Stay     object\n",
              "Claim Amount                 int64\n",
              "Total Claimed                int64\n",
              "Num Claims                   int64\n",
              "Num Soft Tissue            float64\n",
              "% Soft Tissue              float64\n",
              "Claim Amount Received        int64\n",
              "Fraud Flag                   int64\n",
              "dtype: object"
            ]
          },
          "metadata": {
            "tags": []
          },
          "execution_count": 5
        }
      ]
    },
    {
      "cell_type": "markdown",
      "metadata": {
        "id": "hVOyzcNnS-c8"
      },
      "source": [
        "**Display data (Series) of a single column**"
      ]
    },
    {
      "cell_type": "code",
      "metadata": {
        "id": "l-ejlnO-SkZz"
      },
      "source": [
        "insurance_type_series = df['Insurance Type ']\n",
        "# insurance_type_series.array\n",
        "print(tabulate(pd.DataFrame(insurance_type_series.to_list(), columns = ['Insurance Type']), headers='keys', tablefmt='grid'))"
      ],
      "execution_count": null,
      "outputs": []
    },
    {
      "cell_type": "markdown",
      "metadata": {
        "id": "4jGgjKGobEJe"
      },
      "source": [
        "**Add new column \"Revenue\"**"
      ]
    },
    {
      "cell_type": "code",
      "metadata": {
        "id": "N8neJSYqTVfH"
      },
      "source": [
        "df['Revenue'] = df[\"Num Claimants\"] + df[\"Claim Amount Received\"]\n",
        "print(tabulate(pd.DataFrame(df, columns = [\"Num Claimants\", \"Claim Amount Received\", \"Revenue\"]), headers='keys', tablefmt='grid'))"
      ],
      "execution_count": null,
      "outputs": []
    },
    {
      "cell_type": "markdown",
      "metadata": {
        "id": "KAQD2z0LbJAS"
      },
      "source": [
        "**Select and display a specific row**"
      ]
    },
    {
      "cell_type": "code",
      "metadata": {
        "colab": {
          "base_uri": "https://localhost:8080/",
          "height": 79
        },
        "id": "Vz3QC3GDZfWk",
        "outputId": "564d95a6-1b80-4bba-ff05-ead3f7caeca6"
      },
      "source": [
        "df.iloc[0:1, 0:5]"
      ],
      "execution_count": null,
      "outputs": [
        {
          "output_type": "execute_result",
          "data": {
            "text/html": [
              "<div>\n",
              "<style scoped>\n",
              "    .dataframe tbody tr th:only-of-type {\n",
              "        vertical-align: middle;\n",
              "    }\n",
              "\n",
              "    .dataframe tbody tr th {\n",
              "        vertical-align: top;\n",
              "    }\n",
              "\n",
              "    .dataframe thead th {\n",
              "        text-align: right;\n",
              "    }\n",
              "</style>\n",
              "<table border=\"1\" class=\"dataframe\">\n",
              "  <thead>\n",
              "    <tr style=\"text-align: right;\">\n",
              "      <th></th>\n",
              "      <th>ID</th>\n",
              "      <th>Insurance Type</th>\n",
              "      <th>Income of Policy Holder</th>\n",
              "      <th>Marital Status</th>\n",
              "      <th>Num Claimants</th>\n",
              "    </tr>\n",
              "  </thead>\n",
              "  <tbody>\n",
              "    <tr>\n",
              "      <th>0</th>\n",
              "      <td>1</td>\n",
              "      <td>CI</td>\n",
              "      <td>0</td>\n",
              "      <td>NaN</td>\n",
              "      <td>2</td>\n",
              "    </tr>\n",
              "  </tbody>\n",
              "</table>\n",
              "</div>"
            ],
            "text/plain": [
              "   ID Insurance Type   Income of Policy Holder Marital Status  Num Claimants\n",
              "0   1              CI                        0            NaN              2"
            ]
          },
          "metadata": {
            "tags": []
          },
          "execution_count": 32
        }
      ]
    },
    {
      "cell_type": "markdown",
      "metadata": {
        "id": "wAh-rVEfcimg"
      },
      "source": [
        "### Step 3: Identify missing attribute field(s). Which have missing values and how many? Propose a way to resolve these missing values for those attributes.\n",
        "\n",
        "**Missing values and count**"
      ]
    },
    {
      "cell_type": "code",
      "metadata": {
        "colab": {
          "base_uri": "https://localhost:8080/"
        },
        "id": "FdLl19VQadIE",
        "outputId": "93d10b7b-ef60-416c-ae01-85a95e6671f6"
      },
      "source": [
        "df.isna().sum()"
      ],
      "execution_count": null,
      "outputs": [
        {
          "output_type": "execute_result",
          "data": {
            "text/plain": [
              "ID                           0\n",
              "Insurance Type               0\n",
              "Income of Policy Holder      0\n",
              "Marital Status             330\n",
              "Num Claimants                0\n",
              "Injury Type                  0\n",
              "Overnight Hospital Stay      0\n",
              "Claim Amount                 0\n",
              "Total Claimed                0\n",
              "Num Claims                   0\n",
              "Num Soft Tissue             10\n",
              "% Soft Tissue                0\n",
              "Claim Amount Received        0\n",
              "Fraud Flag                   0\n",
              "dtype: int64"
            ]
          },
          "metadata": {
            "tags": []
          },
          "execution_count": 33
        }
      ]
    },
    {
      "cell_type": "markdown",
      "metadata": {
        "id": "UwcSZiwrato5"
      },
      "source": [
        "**Propose a way to resolve these missing values**\n",
        "\n",
        "*Marital Status*\n",
        "\n",
        "To resolve this, i would suggest creating a new valid value called \"Not Specifed\", which would replace all the NaN values."
      ]
    },
    {
      "cell_type": "code",
      "metadata": {
        "colab": {
          "base_uri": "https://localhost:8080/"
        },
        "id": "rB3YOAQebIOc",
        "outputId": "a480cc27-785e-456e-fb72-1d5dd307b37c"
      },
      "source": [
        "# Marital Status\n",
        "# With values\n",
        "len(df.loc[df['Marital Status'].isin(['Married', 'Single', 'Divorced']), \"Marital Status\"])\n",
        "\n",
        "# With missing values\n",
        "len(df.loc[~df['Marital Status'].isin(['Married', 'Single', 'Divorced']), \"Marital Status\"])\n",
        "\n"
      ],
      "execution_count": null,
      "outputs": [
        {
          "output_type": "execute_result",
          "data": {
            "text/plain": [
              "330"
            ]
          },
          "metadata": {
            "tags": []
          },
          "execution_count": 49
        }
      ]
    },
    {
      "cell_type": "markdown",
      "metadata": {
        "id": "werEodn6fSoC"
      },
      "source": [
        "*Num Soft Tissue*\n",
        "\n",
        "For this attribute i would suggest replacing the NaN values with 0."
      ]
    },
    {
      "cell_type": "code",
      "metadata": {
        "id": "pousKRxCe8vB"
      },
      "source": [
        "df_nst = df['Num Soft Tissue'].fillna(0, inplace=False)\n",
        "df_nst\n",
        "\n",
        "# print(tabulate(pd.DataFrame(df_nst), headers = 'keys', tablefmt = 'grid'))"
      ],
      "execution_count": null,
      "outputs": []
    },
    {
      "cell_type": "markdown",
      "metadata": {
        "id": "npnz18SGEZJC"
      },
      "source": [
        "### Step 4: Consider the attribute \"Insurance Type\".\n",
        "\n",
        "**Do you find it odd?**\n",
        "\n",
        "1. The attribute has the same value in all rows, hence the feature is constant and not important to use the data or solve any possible problem at this point; it's likely not important for our machine learning algorithm\n",
        "\n",
        "2. The attribute has a space in its name; 'Insurance Type '"
      ]
    },
    {
      "cell_type": "code",
      "metadata": {
        "colab": {
          "base_uri": "https://localhost:8080/"
        },
        "id": "DhF00d2KOCBo",
        "outputId": "b399b51a-b88f-4be7-d8b1-e3fe73f020ca"
      },
      "source": [
        "# Values are all the same - 500\n",
        "print(\"Count values\", df.groupby(['Insurance Type ']).count())\n",
        "print(df['Insurance Type '])"
      ],
      "execution_count": null,
      "outputs": [
        {
          "output_type": "stream",
          "text": [
            "Count values                   ID  ...  Fraud Flag\n",
            "Insurance Type        ...            \n",
            "CI               500  ...         500\n",
            "\n",
            "[1 rows x 13 columns]\n",
            "0      CI\n",
            "1      CI\n",
            "2      CI\n",
            "3      CI\n",
            "4      CI\n",
            "       ..\n",
            "495    CI\n",
            "496    CI\n",
            "497    CI\n",
            "498    CI\n",
            "499    CI\n",
            "Name: Insurance Type , Length: 500, dtype: object\n"
          ],
          "name": "stdout"
        }
      ]
    },
    {
      "cell_type": "markdown",
      "metadata": {
        "id": "bY_fYL_Wy3IW"
      },
      "source": [
        "**How would you remove that attribute**\n",
        "\n",
        "*Dropping constant attribute*\n",
        "\n",
        "If the column was numeric, we could use variance threshold to determine if it was constant."
      ]
    },
    {
      "cell_type": "code",
      "metadata": {
        "id": "ylaWATCXy8CH"
      },
      "source": [
        "df_insurance_type_dropped = df.drop('Insurance Type ', axis=1, inplace=False)\n",
        "\n",
        "print(tabulate(pd.DataFrame(df_insurance_type_dropped), headers = 'keys', tablefmt = 'grid'))"
      ],
      "execution_count": null,
      "outputs": []
    },
    {
      "cell_type": "markdown",
      "metadata": {
        "id": "ldYhGTjNNcJ8"
      },
      "source": [
        "### Step 5: Explore how the attributes vary or relate to each other"
      ]
    },
    {
      "cell_type": "markdown",
      "metadata": {
        "id": "SY2U_5aw84od"
      },
      "source": [
        "**Calculate and visualize correlations using correlation matrix**"
      ]
    },
    {
      "cell_type": "code",
      "metadata": {
        "colab": {
          "base_uri": "https://localhost:8080/"
        },
        "id": "iRsAfI-B2JSQ",
        "outputId": "95a3ead8-b137-467c-94fa-47d50fff392d"
      },
      "source": [
        "corr_matrix = df.corr()\n",
        "# print(tabulate(df.head(3), headers=\"keys\", tablefmt=\"grid\"))\n",
        "print(tabulate(corr_matrix, headers=\"keys\", tablefmt=\"grid\"))"
      ],
      "execution_count": 11,
      "outputs": [
        {
          "output_type": "stream",
          "text": [
            "+-------------------------+------------+---------------------------+-----------------+----------------+-----------------+--------------+-------------------+-----------------+-------------------------+--------------+\n",
            "|                         |         ID |   Income of Policy Holder |   Num Claimants |   Claim Amount |   Total Claimed |   Num Claims |   Num Soft Tissue |   % Soft Tissue |   Claim Amount Received |   Fraud Flag |\n",
            "+=========================+============+===========================+=================+================+=================+==============+===================+=================+=========================+==============+\n",
            "| ID                      |  1         |                0.041174   |     -0.0877926  |    -0.0177573  |      -0.0829094 |  -0.0777197  |       -0.129436   |      -0.0679916 |             -0.0482813  |    0.0820522 |\n",
            "+-------------------------+------------+---------------------------+-----------------+----------------+-----------------+--------------+-------------------+-----------------+-------------------------+--------------+\n",
            "| Income of Policy Holder |  0.041174  |                1          |     -0.063393   |     0.00978504 |      -0.0436796 |  -0.0479346  |       -0.00995793 |       0.0191055 |              0.0172117  |   -0.0137918 |\n",
            "+-------------------------+------------+---------------------------+-----------------+----------------+-----------------+--------------+-------------------+-----------------+-------------------------+--------------+\n",
            "| Num Claimants           | -0.0877926 |               -0.063393   |      1          |     0.0067365  |       0.0281885 |   0.0457906  |        0.0643594  |       0.0362245 |              0.00318662 |    0.0353907 |\n",
            "+-------------------------+------------+---------------------------+-----------------+----------------+-----------------+--------------+-------------------+-----------------+-------------------------+--------------+\n",
            "| Claim Amount            | -0.0177573 |                0.00978504 |      0.0067365  |     1          |      -0.0087044 |  -0.019063   |        0.0075489  |       0.0248629 |              0.797659   |   -0.0806426 |\n",
            "+-------------------------+------------+---------------------------+-----------------+----------------+-----------------+--------------+-------------------+-----------------+-------------------------+--------------+\n",
            "| Total Claimed           | -0.0829094 |               -0.0436796  |      0.0281885  |    -0.0087044  |       1         |   0.94677    |        0.424877   |       0.0576328 |              0.0204421  |   -0.0985472 |\n",
            "+-------------------------+------------+---------------------------+-----------------+----------------+-----------------+--------------+-------------------+-----------------+-------------------------+--------------+\n",
            "| Num Claims              | -0.0777197 |               -0.0479346  |      0.0457906  |    -0.019063   |       0.94677   |   1          |        0.491157   |       0.0814092 |             -0.00209525 |   -0.0779823 |\n",
            "+-------------------------+------------+---------------------------+-----------------+----------------+-----------------+--------------+-------------------+-----------------+-------------------------+--------------+\n",
            "| Num Soft Tissue         | -0.129436  |               -0.00995793 |      0.0643594  |     0.0075489  |       0.424877  |   0.491157   |        1          |       0.816956  |              0.0355626  |    0.0149396 |\n",
            "+-------------------------+------------+---------------------------+-----------------+----------------+-----------------+--------------+-------------------+-----------------+-------------------------+--------------+\n",
            "| % Soft Tissue           | -0.0679916 |                0.0191055  |      0.0362245  |     0.0248629  |       0.0576328 |   0.0814092  |        0.816956   |       1         |              0.0845791  |   -0.0419015 |\n",
            "+-------------------------+------------+---------------------------+-----------------+----------------+-----------------+--------------+-------------------+-----------------+-------------------------+--------------+\n",
            "| Claim Amount Received   | -0.0482813 |                0.0172117  |      0.00318662 |     0.797659   |       0.0204421 |  -0.00209525 |        0.0355626  |       0.0845791 |              1          |   -0.304245  |\n",
            "+-------------------------+------------+---------------------------+-----------------+----------------+-----------------+--------------+-------------------+-----------------+-------------------------+--------------+\n",
            "| Fraud Flag              |  0.0820522 |               -0.0137918  |      0.0353907  |    -0.0806426  |      -0.0985472 |  -0.0779823  |        0.0149396  |      -0.0419015 |             -0.304245   |    1         |\n",
            "+-------------------------+------------+---------------------------+-----------------+----------------+-----------------+--------------+-------------------+-----------------+-------------------------+--------------+\n"
          ],
          "name": "stdout"
        }
      ]
    },
    {
      "cell_type": "markdown",
      "metadata": {
        "id": "2CcjK3-U9Nc3"
      },
      "source": [
        "*Visual representation*"
      ]
    },
    {
      "cell_type": "code",
      "metadata": {
        "id": "weYikK9y9TP-"
      },
      "source": [
        "sn.heatmap(corr_matrix, annot=True)\n",
        "plt.show()"
      ],
      "execution_count": null,
      "outputs": []
    },
    {
      "cell_type": "markdown",
      "metadata": {
        "id": "KR42Jw6YIozm"
      },
      "source": [
        "**Keep and eliminate some attributes based on correlation matrix**\n",
        "\n",
        "Attributes with no strong or perfect correlation with any other attribute will be dropped. A strong correlation for r is;\n",
        "\n",
        "- Perfect : 0.9 to 1.0 and -0.9 to -1\n",
        "- Strong  : 0.5 to 0.9 and -0.5 to -0.9\n",
        "\n",
        "The attributes to be dropped are;\n",
        "\n",
        "- ID\n",
        "- Insurance Type\n",
        "- Income of Policy Holder\n",
        "- Marital Status\n",
        "- Num Soft Tissue\n",
        "- % Soft Tissue\n",
        "- Fraud Flag\n",
        "\n",
        "The attributes retained;\n",
        "\n",
        "- Num Claimants\n",
        "- Injury Type\n",
        "- Overnight Hospital Stay\n",
        "- Claim Amount\n",
        "- Total Claimed\n",
        "- Num Claims\n",
        "- Claim Amount Received"
      ]
    },
    {
      "cell_type": "code",
      "metadata": {
        "id": "a560_tbmMv8d"
      },
      "source": [
        "df_corr_weak_uncorrelated = df.drop([\n",
        "                                     'ID',\n",
        "                                     'Insurance Type ',\n",
        "                                     'Income of Policy Holder',\n",
        "                                     'Marital Status',\n",
        "                                     'Num Soft Tissue',\n",
        "                                     '% Soft Tissue',\n",
        "                                     'Fraud Flag'\n",
        "                                    ], axis=1, inplace=False)\n",
        "print(tabulate(df_corr_weak_uncorrelated, headers=\"keys\", tablefmt=\"grid\", showindex=False))"
      ],
      "execution_count": null,
      "outputs": []
    }
  ]
}