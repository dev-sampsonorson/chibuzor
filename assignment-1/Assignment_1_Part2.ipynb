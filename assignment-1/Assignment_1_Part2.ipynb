{
  "nbformat": 4,
  "nbformat_minor": 0,
  "metadata": {
    "colab": {
      "name": "Assignment_1_Part2.ipynb",
      "provenance": [],
      "collapsed_sections": [],
      "authorship_tag": "ABX9TyMHqq6I84ikcodKuBJoEjX/",
      "include_colab_link": true
    },
    "kernelspec": {
      "name": "python3",
      "display_name": "Python 3"
    },
    "language_info": {
      "name": "python"
    }
  },
  "cells": [
    {
      "cell_type": "markdown",
      "metadata": {
        "id": "view-in-github",
        "colab_type": "text"
      },
      "source": [
        "<a href=\"https://colab.research.google.com/github/dev-sampsonorson/chibuzor/blob/main/assignment-1/Assignment_1_Part2.ipynb\" target=\"_parent\"><img src=\"https://colab.research.google.com/assets/colab-badge.svg\" alt=\"Open In Colab\"/></a>"
      ]
    },
    {
      "cell_type": "markdown",
      "metadata": {
        "id": "wxvXz0_Br4kG"
      },
      "source": [
        "Step 1: Correct missing values\n",
        "\n",
        "**Load data into Google Colab**"
      ]
    },
    {
      "cell_type": "code",
      "metadata": {
        "id": "PshnevbGr_kP"
      },
      "source": [
        "import pandas as pd\n",
        "from tabulate import tabulate\n",
        "\n",
        "url_csv = 'https://raw.githubusercontent.com/dev-sampsonorson/chibuzor/main/assignment-1/Part2.csv'\n",
        "\n",
        "df = pd.read_csv(url_csv)"
      ],
      "execution_count": 56,
      "outputs": []
    },
    {
      "cell_type": "code",
      "metadata": {
        "colab": {
          "base_uri": "https://localhost:8080/"
        },
        "id": "7me48Y0s2XeW",
        "outputId": "149c70d7-aa9e-4c62-f553-e775ae574c7d"
      },
      "source": [
        "print(tabulate(df, headers=\"keys\", tablefmt=\"grid\"))"
      ],
      "execution_count": 67,
      "outputs": [
        {
          "output_type": "stream",
          "text": [
            "+----+----------+------------------+--------------+------------------+---------------------+-----------------+---------------------+---------------------------+-------------------+-------------+-------------------+-----------------+------------+-----------+------------------------+\n",
            "|    | Gender   | Race             |   Birth_Year | Marital_Status   |   Years_on_Internet |   Hours_Per_Day | Preferred_Browser   | Preferred_Search_Engine   | Preferred_Email   | Read_News   | Online_Shopping   | Online_Gaming   | Facebook   | Twitter   | Other_Social_Network   |\n",
            "+====+==========+==================+==============+==================+=====================+=================+=====================+===========================+===================+=============+===================+=================+============+===========+========================+\n",
            "|  0 | M        | White            |         1972 | M                |                   8 |               1 | Firefox             | Google                    | Yahoo             | Y           | N                 | N               | Y          | N         | nan                    |\n",
            "+----+----------+------------------+--------------+------------------+---------------------+-----------------+---------------------+---------------------------+-------------------+-------------+-------------------+-----------------+------------+-----------+------------------------+\n",
            "|  1 | M        | Hispanic         |         1981 | S                |                  14 |               2 | Chrome              | Google                    | Hotmail           | Y           | N                 | N               | Y          | N         | nan                    |\n",
            "+----+----------+------------------+--------------+------------------+---------------------+-----------------+---------------------+---------------------------+-------------------+-------------+-------------------+-----------------+------------+-----------+------------------------+\n",
            "|  2 | F        | African American |         1977 | S                |                   6 |               2 | Firefox             | Yahoo                     | Yahoo             | Y           | Y                 | nan             | Y          | N         | nan                    |\n",
            "+----+----------+------------------+--------------+------------------+---------------------+-----------------+---------------------+---------------------------+-------------------+-------------+-------------------+-----------------+------------+-----------+------------------------+\n",
            "|  3 | F        | White            |         1961 | D                |                   8 |               6 | Firefox             | Google                    | Hotmail           | N           | Y                 | N               | N          | Y         | nan                    |\n",
            "+----+----------+------------------+--------------+------------------+---------------------+-----------------+---------------------+---------------------------+-------------------+-------------+-------------------+-----------------+------------+-----------+------------------------+\n",
            "|  4 | M        | White            |         1954 | M                |                   2 |               3 | Internet Explorer   | Bing                      | Hotmail           | Y           | Y                 | N               | Y          | N         | nan                    |\n",
            "+----+----------+------------------+--------------+------------------+---------------------+-----------------+---------------------+---------------------------+-------------------+-------------+-------------------+-----------------+------------+-----------+------------------------+\n",
            "|  5 | M        | African American |         1982 | D                |                  15 |               4 | Internet Explorer   | Google                    | Yahoo             | Y           | N                 | Y               | N          | N         | nan                    |\n",
            "+----+----------+------------------+--------------+------------------+---------------------+-----------------+---------------------+---------------------------+-------------------+-------------+-------------------+-----------------+------------+-----------+------------------------+\n",
            "|  6 | M        | African American |         1981 | D                |                  11 |               2 | Firefox             | Google                    | Yahoo             | nan         | Y                 | nan             | Y          | Y         | LinkedIn               |\n",
            "+----+----------+------------------+--------------+------------------+---------------------+-----------------+---------------------+---------------------------+-------------------+-------------+-------------------+-----------------+------------+-----------+------------------------+\n",
            "|  7 | M        | White            |         1977 | S                |                   3 |               3 | Internet Explorer   | Yahoo                     | Yahoo             | Y           | nan               | nan             | Y          | 99        | LinkedIn               |\n",
            "+----+----------+------------------+--------------+------------------+---------------------+-----------------+---------------------+---------------------------+-------------------+-------------+-------------------+-----------------+------------+-----------+------------------------+\n",
            "|  8 | F        | African American |         1969 | M                |                   6 |               2 | Firefox             | Google                    | Gmail             | N           | Y                 | N               | N          | N         | nan                    |\n",
            "+----+----------+------------------+--------------+------------------+---------------------+-----------------+---------------------+---------------------------+-------------------+-------------+-------------------+-----------------+------------+-----------+------------------------+\n",
            "|  9 | M        | White            |         1987 | S                |                  12 |               1 | Safari              | Yahoo                     | Yahoo             | Y           | nan               | Y               | Y          | N         | MySpace                |\n",
            "+----+----------+------------------+--------------+------------------+---------------------+-----------------+---------------------+---------------------------+-------------------+-------------+-------------------+-----------------+------------+-----------+------------------------+\n",
            "| 10 | F        | Hispanic         |         1959 | D                |                  12 |               5 | Chrome              | Google                    | Gmail             | Y           | N                 | N               | Y          | N         | Google+                |\n",
            "+----+----------+------------------+--------------+------------------+---------------------+-----------------+---------------------+---------------------------+-------------------+-------------+-------------------+-----------------+------------+-----------+------------------------+\n"
          ],
          "name": "stdout"
        }
      ]
    },
    {
      "cell_type": "markdown",
      "metadata": {
        "id": "dFMwFU0esP_I"
      },
      "source": [
        "**Describe the dataset and provide**\n",
        "\n",
        "*Number of rows and columns*"
      ]
    },
    {
      "cell_type": "code",
      "metadata": {
        "colab": {
          "base_uri": "https://localhost:8080/"
        },
        "id": "xOVzgx9es2BP",
        "outputId": "93d9e4ea-fa54-4ec1-fd12-ad366da24733"
      },
      "source": [
        "print(\"row, column\", df.shape)\n",
        "print(\"row\", df.shape[0])\n",
        "print(\"column\", df.shape[1])"
      ],
      "execution_count": 8,
      "outputs": [
        {
          "output_type": "stream",
          "text": [
            "row, column (11, 15)\n",
            "row 11\n",
            "column 15\n"
          ],
          "name": "stdout"
        }
      ]
    },
    {
      "cell_type": "markdown",
      "metadata": {
        "id": "knX0tHxitu__"
      },
      "source": [
        "*Attribute columns & data types*"
      ]
    },
    {
      "cell_type": "code",
      "metadata": {
        "colab": {
          "base_uri": "https://localhost:8080/"
        },
        "id": "bKcGpcxctTDz",
        "outputId": "08b1280d-e330-4972-8db3-1fb16a1225c1"
      },
      "source": [
        "df.dtypes"
      ],
      "execution_count": 9,
      "outputs": [
        {
          "output_type": "execute_result",
          "data": {
            "text/plain": [
              "Gender                     object\n",
              "Race                       object\n",
              "Birth_Year                  int64\n",
              "Marital_Status             object\n",
              "Years_on_Internet           int64\n",
              "Hours_Per_Day               int64\n",
              "Preferred_Browser          object\n",
              "Preferred_Search_Engine    object\n",
              "Preferred_Email            object\n",
              "Read_News                  object\n",
              "Online_Shopping            object\n",
              "Online_Gaming              object\n",
              "Facebook                   object\n",
              "Twitter                    object\n",
              "Other_Social_Network       object\n",
              "dtype: object"
            ]
          },
          "metadata": {
            "tags": []
          },
          "execution_count": 9
        }
      ]
    },
    {
      "cell_type": "markdown",
      "metadata": {
        "id": "8c6Ptu-MuFLH"
      },
      "source": [
        "**Replace the attribute “Online_Gaming“ missing value as \"N\"**"
      ]
    },
    {
      "cell_type": "code",
      "metadata": {
        "id": "U6mnI6WKts4i"
      },
      "source": [
        "df_nan_replaced = df['Online_Gaming'].fillna(\"N\", inplace=False)\n",
        "print(tabulate(pd.DataFrame(df_nan_replaced), headers=\"keys\", tablefmt=\"grid\"))"
      ],
      "execution_count": null,
      "outputs": []
    },
    {
      "cell_type": "markdown",
      "metadata": {
        "id": "lKd8j2v6wPog"
      },
      "source": [
        "### Step 2: Data Reduction\n",
        "\n",
        "**Remove only those rows with missing values in online_shopping**"
      ]
    },
    {
      "cell_type": "code",
      "metadata": {
        "colab": {
          "base_uri": "https://localhost:8080/"
        },
        "id": "l7-wtWh2upjs",
        "outputId": "372602b9-752e-4ebc-ae25-8a45b3e30bcc"
      },
      "source": [
        "online_shopping_nan = df.loc[df['Online_Shopping'].isna(), \"Online_Shopping\"]\n",
        "df_nan_rows_removed = df.drop(labels=online_shopping_nan.index, axis=0, inplace=False)\n",
        "\n",
        "print(len(df_nan_rows_removed['Online_Shopping']))"
      ],
      "execution_count": 49,
      "outputs": [
        {
          "output_type": "stream",
          "text": [
            "11\n",
            "9\n"
          ],
          "name": "stdout"
        }
      ]
    },
    {
      "cell_type": "markdown",
      "metadata": {
        "id": "vkvvk9nPyzVL"
      },
      "source": [
        "### Step 3: Replace Invalid Data:\n",
        "**Replace 99 with 'N' in 'Twitter'**"
      ]
    },
    {
      "cell_type": "code",
      "metadata": {
        "colab": {
          "base_uri": "https://localhost:8080/"
        },
        "id": "NI_dAkPtw7LD",
        "outputId": "7f37b775-d8bf-4599-e28b-8f99695c5523"
      },
      "source": [
        "df_copy = df.copy()\n",
        "\n",
        "count_index = 0\n",
        "for row in df['Twitter']:\n",
        "  try:\n",
        "    int(row)\n",
        "    df_copy.loc[count_index, 'Twitter'] = 'N'\n",
        "  except ValueError:\n",
        "    pass\n",
        "  count_index += 1\n",
        "\n",
        "print(\"df:\")\n",
        "print(df['Twitter'], \"\\n\")\n",
        "\n",
        "print(\"df copy:\")\n",
        "print(df_copy['Twitter'])"
      ],
      "execution_count": 65,
      "outputs": [
        {
          "output_type": "stream",
          "text": [
            "df:\n",
            "0      N\n",
            "1      N\n",
            "2      N\n",
            "3      Y\n",
            "4      N\n",
            "5      N\n",
            "6      Y\n",
            "7     99\n",
            "8      N\n",
            "9      N\n",
            "10     N\n",
            "Name: Twitter, dtype: object \n",
            "\n",
            "df copy:\n",
            "0     N\n",
            "1     N\n",
            "2     N\n",
            "3     Y\n",
            "4     N\n",
            "5     N\n",
            "6     Y\n",
            "7     N\n",
            "8     N\n",
            "9     N\n",
            "10    N\n",
            "Name: Twitter, dtype: object\n"
          ],
          "name": "stdout"
        }
      ]
    },
    {
      "cell_type": "markdown",
      "metadata": {
        "id": "XF4KgvHK1J0t"
      },
      "source": [
        "### Step 4: Attribute reduction - Reduce the number of attributes by eliminating unused attributes \n",
        "\n",
        "**Remove \"Other_Social_Network**"
      ]
    },
    {
      "cell_type": "code",
      "metadata": {
        "colab": {
          "base_uri": "https://localhost:8080/",
          "height": 476
        },
        "id": "fAxBYud31QBy",
        "outputId": "45b42999-e952-48ed-a869-725057a89e51"
      },
      "source": [
        "df_other_social_network_dropped = df.drop('Other_Social_Network', axis=1, inplace=False)\n",
        "df_other_social_network_dropped"
      ],
      "execution_count": 66,
      "outputs": [
        {
          "output_type": "execute_result",
          "data": {
            "text/html": [
              "<div>\n",
              "<style scoped>\n",
              "    .dataframe tbody tr th:only-of-type {\n",
              "        vertical-align: middle;\n",
              "    }\n",
              "\n",
              "    .dataframe tbody tr th {\n",
              "        vertical-align: top;\n",
              "    }\n",
              "\n",
              "    .dataframe thead th {\n",
              "        text-align: right;\n",
              "    }\n",
              "</style>\n",
              "<table border=\"1\" class=\"dataframe\">\n",
              "  <thead>\n",
              "    <tr style=\"text-align: right;\">\n",
              "      <th></th>\n",
              "      <th>Gender</th>\n",
              "      <th>Race</th>\n",
              "      <th>Birth_Year</th>\n",
              "      <th>Marital_Status</th>\n",
              "      <th>Years_on_Internet</th>\n",
              "      <th>Hours_Per_Day</th>\n",
              "      <th>Preferred_Browser</th>\n",
              "      <th>Preferred_Search_Engine</th>\n",
              "      <th>Preferred_Email</th>\n",
              "      <th>Read_News</th>\n",
              "      <th>Online_Shopping</th>\n",
              "      <th>Online_Gaming</th>\n",
              "      <th>Facebook</th>\n",
              "      <th>Twitter</th>\n",
              "    </tr>\n",
              "  </thead>\n",
              "  <tbody>\n",
              "    <tr>\n",
              "      <th>0</th>\n",
              "      <td>M</td>\n",
              "      <td>White</td>\n",
              "      <td>1972</td>\n",
              "      <td>M</td>\n",
              "      <td>8</td>\n",
              "      <td>1</td>\n",
              "      <td>Firefox</td>\n",
              "      <td>Google</td>\n",
              "      <td>Yahoo</td>\n",
              "      <td>Y</td>\n",
              "      <td>N</td>\n",
              "      <td>N</td>\n",
              "      <td>Y</td>\n",
              "      <td>N</td>\n",
              "    </tr>\n",
              "    <tr>\n",
              "      <th>1</th>\n",
              "      <td>M</td>\n",
              "      <td>Hispanic</td>\n",
              "      <td>1981</td>\n",
              "      <td>S</td>\n",
              "      <td>14</td>\n",
              "      <td>2</td>\n",
              "      <td>Chrome</td>\n",
              "      <td>Google</td>\n",
              "      <td>Hotmail</td>\n",
              "      <td>Y</td>\n",
              "      <td>N</td>\n",
              "      <td>N</td>\n",
              "      <td>Y</td>\n",
              "      <td>N</td>\n",
              "    </tr>\n",
              "    <tr>\n",
              "      <th>2</th>\n",
              "      <td>F</td>\n",
              "      <td>African American</td>\n",
              "      <td>1977</td>\n",
              "      <td>S</td>\n",
              "      <td>6</td>\n",
              "      <td>2</td>\n",
              "      <td>Firefox</td>\n",
              "      <td>Yahoo</td>\n",
              "      <td>Yahoo</td>\n",
              "      <td>Y</td>\n",
              "      <td>Y</td>\n",
              "      <td>NaN</td>\n",
              "      <td>Y</td>\n",
              "      <td>N</td>\n",
              "    </tr>\n",
              "    <tr>\n",
              "      <th>3</th>\n",
              "      <td>F</td>\n",
              "      <td>White</td>\n",
              "      <td>1961</td>\n",
              "      <td>D</td>\n",
              "      <td>8</td>\n",
              "      <td>6</td>\n",
              "      <td>Firefox</td>\n",
              "      <td>Google</td>\n",
              "      <td>Hotmail</td>\n",
              "      <td>N</td>\n",
              "      <td>Y</td>\n",
              "      <td>N</td>\n",
              "      <td>N</td>\n",
              "      <td>Y</td>\n",
              "    </tr>\n",
              "    <tr>\n",
              "      <th>4</th>\n",
              "      <td>M</td>\n",
              "      <td>White</td>\n",
              "      <td>1954</td>\n",
              "      <td>M</td>\n",
              "      <td>2</td>\n",
              "      <td>3</td>\n",
              "      <td>Internet Explorer</td>\n",
              "      <td>Bing</td>\n",
              "      <td>Hotmail</td>\n",
              "      <td>Y</td>\n",
              "      <td>Y</td>\n",
              "      <td>N</td>\n",
              "      <td>Y</td>\n",
              "      <td>N</td>\n",
              "    </tr>\n",
              "    <tr>\n",
              "      <th>5</th>\n",
              "      <td>M</td>\n",
              "      <td>African American</td>\n",
              "      <td>1982</td>\n",
              "      <td>D</td>\n",
              "      <td>15</td>\n",
              "      <td>4</td>\n",
              "      <td>Internet Explorer</td>\n",
              "      <td>Google</td>\n",
              "      <td>Yahoo</td>\n",
              "      <td>Y</td>\n",
              "      <td>N</td>\n",
              "      <td>Y</td>\n",
              "      <td>N</td>\n",
              "      <td>N</td>\n",
              "    </tr>\n",
              "    <tr>\n",
              "      <th>6</th>\n",
              "      <td>M</td>\n",
              "      <td>African American</td>\n",
              "      <td>1981</td>\n",
              "      <td>D</td>\n",
              "      <td>11</td>\n",
              "      <td>2</td>\n",
              "      <td>Firefox</td>\n",
              "      <td>Google</td>\n",
              "      <td>Yahoo</td>\n",
              "      <td>NaN</td>\n",
              "      <td>Y</td>\n",
              "      <td>NaN</td>\n",
              "      <td>Y</td>\n",
              "      <td>Y</td>\n",
              "    </tr>\n",
              "    <tr>\n",
              "      <th>7</th>\n",
              "      <td>M</td>\n",
              "      <td>White</td>\n",
              "      <td>1977</td>\n",
              "      <td>S</td>\n",
              "      <td>3</td>\n",
              "      <td>3</td>\n",
              "      <td>Internet Explorer</td>\n",
              "      <td>Yahoo</td>\n",
              "      <td>Yahoo</td>\n",
              "      <td>Y</td>\n",
              "      <td>NaN</td>\n",
              "      <td>NaN</td>\n",
              "      <td>Y</td>\n",
              "      <td>99</td>\n",
              "    </tr>\n",
              "    <tr>\n",
              "      <th>8</th>\n",
              "      <td>F</td>\n",
              "      <td>African American</td>\n",
              "      <td>1969</td>\n",
              "      <td>M</td>\n",
              "      <td>6</td>\n",
              "      <td>2</td>\n",
              "      <td>Firefox</td>\n",
              "      <td>Google</td>\n",
              "      <td>Gmail</td>\n",
              "      <td>N</td>\n",
              "      <td>Y</td>\n",
              "      <td>N</td>\n",
              "      <td>N</td>\n",
              "      <td>N</td>\n",
              "    </tr>\n",
              "    <tr>\n",
              "      <th>9</th>\n",
              "      <td>M</td>\n",
              "      <td>White</td>\n",
              "      <td>1987</td>\n",
              "      <td>S</td>\n",
              "      <td>12</td>\n",
              "      <td>1</td>\n",
              "      <td>Safari</td>\n",
              "      <td>Yahoo</td>\n",
              "      <td>Yahoo</td>\n",
              "      <td>Y</td>\n",
              "      <td>NaN</td>\n",
              "      <td>Y</td>\n",
              "      <td>Y</td>\n",
              "      <td>N</td>\n",
              "    </tr>\n",
              "    <tr>\n",
              "      <th>10</th>\n",
              "      <td>F</td>\n",
              "      <td>Hispanic</td>\n",
              "      <td>1959</td>\n",
              "      <td>D</td>\n",
              "      <td>12</td>\n",
              "      <td>5</td>\n",
              "      <td>Chrome</td>\n",
              "      <td>Google</td>\n",
              "      <td>Gmail</td>\n",
              "      <td>Y</td>\n",
              "      <td>N</td>\n",
              "      <td>N</td>\n",
              "      <td>Y</td>\n",
              "      <td>N</td>\n",
              "    </tr>\n",
              "  </tbody>\n",
              "</table>\n",
              "</div>"
            ],
            "text/plain": [
              "   Gender              Race  Birth_Year  ... Online_Gaming  Facebook  Twitter\n",
              "0       M             White        1972  ...             N         Y        N\n",
              "1       M          Hispanic        1981  ...             N         Y        N\n",
              "2       F  African American        1977  ...           NaN         Y        N\n",
              "3       F             White        1961  ...             N         N        Y\n",
              "4       M             White        1954  ...             N         Y        N\n",
              "5       M  African American        1982  ...             Y         N        N\n",
              "6       M  African American        1981  ...           NaN         Y        Y\n",
              "7       M             White        1977  ...           NaN         Y       99\n",
              "8       F  African American        1969  ...             N         N        N\n",
              "9       M             White        1987  ...             Y         Y        N\n",
              "10      F          Hispanic        1959  ...             N         Y        N\n",
              "\n",
              "[11 rows x 14 columns]"
            ]
          },
          "metadata": {
            "tags": []
          },
          "execution_count": 66
        }
      ]
    },
    {
      "cell_type": "markdown",
      "metadata": {
        "id": "0J_o-L4J1gi2"
      },
      "source": [
        "### Observation and Inferences\n",
        "\n",
        "- The dataset is small and easy to work with\n",
        "- The dataset is fairly clean. The red flag is the invalid value of '99' on the Twitter attribute column\n",
        "- 'Read_News', 'Online_Shopping', and 'Online_Gaming' have empty values which should have be prevented at the data entry stage. If the record owner can choose not to specify 'Y' or 'N', then a third valid value like; 'Prefer not to answer' can be provided.This third possible valid value conveys more meaning than an empty value.\n"
      ]
    }
  ]
}