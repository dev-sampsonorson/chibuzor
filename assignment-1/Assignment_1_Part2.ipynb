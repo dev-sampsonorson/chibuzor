{
  "nbformat": 4,
  "nbformat_minor": 0,
  "metadata": {
    "colab": {
      "name": "Assignment_1_Part2.ipynb",
      "provenance": [],
      "collapsed_sections": [],
      "authorship_tag": "ABX9TyP1s3r5O/8buZ6XR8kyF7u+",
      "include_colab_link": true
    },
    "kernelspec": {
      "name": "python3",
      "display_name": "Python 3"
    },
    "language_info": {
      "name": "python"
    }
  },
  "cells": [
    {
      "cell_type": "markdown",
      "metadata": {
        "id": "view-in-github",
        "colab_type": "text"
      },
      "source": [
        "<a href=\"https://colab.research.google.com/github/dev-sampsonorson/chibuzor/blob/main/assignment-1/Assignment_1_Part2.ipynb\" target=\"_parent\"><img src=\"https://colab.research.google.com/assets/colab-badge.svg\" alt=\"Open In Colab\"/></a>"
      ]
    },
    {
      "cell_type": "markdown",
      "metadata": {
        "id": "wxvXz0_Br4kG"
      },
      "source": [
        "Step 1: Correct missing values\n",
        "\n",
        "**Load data into Google Colab**"
      ]
    },
    {
      "cell_type": "code",
      "metadata": {
        "id": "PshnevbGr_kP"
      },
      "source": [
        "import pandas as pd\n",
        "from tabulate import tabulate\n",
        "\n",
        "url_csv = 'https://raw.githubusercontent.com/dev-sampsonorson/chibuzor/main/assignment-1/Part2.csv'\n",
        "\n",
        "df = pd.read_csv(url_csv)"
      ],
      "execution_count": 2,
      "outputs": []
    },
    {
      "cell_type": "markdown",
      "metadata": {
        "id": "dFMwFU0esP_I"
      },
      "source": [
        "**Describe the dataset and provide**\n",
        "\n",
        "*Number of rows and columns*"
      ]
    },
    {
      "cell_type": "code",
      "metadata": {
        "colab": {
          "base_uri": "https://localhost:8080/"
        },
        "id": "xOVzgx9es2BP",
        "outputId": "93d9e4ea-fa54-4ec1-fd12-ad366da24733"
      },
      "source": [
        "print(\"row, column\", df.shape)\n",
        "print(\"row\", df.shape[0])\n",
        "print(\"column\", df.shape[1])"
      ],
      "execution_count": 8,
      "outputs": [
        {
          "output_type": "stream",
          "text": [
            "row, column (11, 15)\n",
            "row 11\n",
            "column 15\n"
          ],
          "name": "stdout"
        }
      ]
    },
    {
      "cell_type": "markdown",
      "metadata": {
        "id": "knX0tHxitu__"
      },
      "source": [
        "*Data types*"
      ]
    },
    {
      "cell_type": "code",
      "metadata": {
        "colab": {
          "base_uri": "https://localhost:8080/"
        },
        "id": "bKcGpcxctTDz",
        "outputId": "08b1280d-e330-4972-8db3-1fb16a1225c1"
      },
      "source": [
        "df.dtypes"
      ],
      "execution_count": 9,
      "outputs": [
        {
          "output_type": "execute_result",
          "data": {
            "text/plain": [
              "Gender                     object\n",
              "Race                       object\n",
              "Birth_Year                  int64\n",
              "Marital_Status             object\n",
              "Years_on_Internet           int64\n",
              "Hours_Per_Day               int64\n",
              "Preferred_Browser          object\n",
              "Preferred_Search_Engine    object\n",
              "Preferred_Email            object\n",
              "Read_News                  object\n",
              "Online_Shopping            object\n",
              "Online_Gaming              object\n",
              "Facebook                   object\n",
              "Twitter                    object\n",
              "Other_Social_Network       object\n",
              "dtype: object"
            ]
          },
          "metadata": {
            "tags": []
          },
          "execution_count": 9
        }
      ]
    },
    {
      "cell_type": "code",
      "metadata": {
        "id": "U6mnI6WKts4i"
      },
      "source": [
        ""
      ],
      "execution_count": null,
      "outputs": []
    }
  ]
}